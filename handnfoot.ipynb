{
 "cells": [
  {
   "cell_type": "code",
   "execution_count": 1,
   "metadata": {},
   "outputs": [
    {
     "name": "stdout",
     "output_type": "stream",
     "text": [
      "[B1] (32)\n"
     ]
    }
   ],
   "source": [
    "import logging\n",
    "from handnfoot import cardtable\n",
    "from handnfoot import handnfoot\n"
   ]
  },
  {
   "cell_type": "code",
   "execution_count": 2,
   "metadata": {},
   "outputs": [
    {
     "name": "stderr",
     "output_type": "stream",
     "text": [
      "INFO: Setting up game\n",
      "INFO: Setting up round 1\n"
     ]
    }
   ],
   "source": [
    "    logging.basicConfig(format='%(levelname)s: %(message)s', level=logging.DEBUG)\n",
    "    g = handnfoot.HNFGame()\n",
    "    g.add_player(cardtable.Player(\"J\", precision=5, speed=1.2), handnfoot.Strategy())\n",
    "    g.add_player(cardtable.Player(\"S\", precision=10, speed=1), handnfoot.Strategy())\n",
    "    g.add_player(cardtable.Player(\"L\", precision=7, speed=1), handnfoot.Strategy())\n",
    "    g.add_player(cardtable.Player(\"A\", precision=15, speed=.9), handnfoot.Strategy())\n",
    "    #g.game_setup()\n",
    "    #g.round_setup()\n",
    "    g.start()\n",
    "    #g.display()"
   ]
  },
  {
   "cell_type": "code",
   "execution_count": 3,
   "metadata": {},
   "outputs": [
    {
     "name": "stderr",
     "output_type": "stream",
     "text": [
      "DEBUG: Player J draws [6S[3H]\n",
      "DEBUG: Player J discards 2C leaving [2D[3S[3H[4H[5H[6S[8S[8D[AC[JC[JS[QC]\n",
      "DEBUG: Player J draws [JS[*B]\n",
      "DEBUG: Player J discards *B leaving [2D[3S[3H[4H[5H[6S[8S[8D[AC[JC[JS[JS[QC]\n",
      "DEBUG: Player J draws [7S[5H]\n",
      "DEBUG: Player J discards 2D leaving [3S[3H[4H[5H[5H[6S[7S[8S[8D[AC[JC[JS[JS[QC]\n",
      "DEBUG: Player J draws [KD[7H]\n",
      "DEBUG: Player J discards 3S leaving [3H[4H[5H[5H[6S[7S[7H[8S[8D[AC[JC[JS[JS[KD[QC]\n",
      "DEBUG: Player J draws [*R[5S]\n",
      "DEBUG: Player J discards *R leaving [3H[4H[5S[5H[5H[6S[7S[7H[8S[8D[AC[JC[JS[JS[KD[QC]\n",
      "DEBUG: Player J draws [8C[6C]\n",
      "DEBUG: Player J discards 3H leaving [4H[5S[5H[5H[6S[6C[7S[7H[8S[8C[8D[AC[JC[JS[JS[KD[QC]\n",
      "DEBUG: Player J draws [TC[JH]\n",
      "DEBUG: Player J discards 4H leaving [5S[5H[5H[6S[6C[7S[7H[8S[8C[8D[AC[JC[JS[JS[JH[KD[QC[TC]\n",
      "DEBUG: Player J draws [TC[JS]\n",
      "DEBUG: Player J discards 5S leaving [5H[5H[6S[6C[7S[7H[8S[8C[8D[AC[JC[JS[JS[JS[JH[KD[QC[TC[TC]\n",
      "DEBUG: Player J draws [AS[7H]\n",
      "DEBUG: Player J discards 7S leaving [5H[5H[6S[6C[7H[7H[8S[8C[8D[AC[AS[JC[JS[JS[JS[JH[KD[QC[TC[TC]\n",
      "DEBUG: Player J draws [6S[5D]\n",
      "DEBUG: Player J lays down [5H[5H[5D]\n",
      "DEBUG: Player J lays down [6S[6C[6S]\n",
      "DEBUG: Player J lays down [JC[JS[JS[JS]\n",
      "DEBUG: Player J discards 8D leaving [7H[7H[8S[8C[AC[AS[JH[KD[QC[TC[TC]\n",
      "DEBUG: Player J draws [5H[*B]\n",
      "DEBUG: Player J lays down [5H]\n",
      "DEBUG: Player J discards *B leaving [7H[7H[8S[8C[AC[AS[JH[KD[QC[TC[TC]\n",
      "DEBUG: Player J draws [7D[3S]\n",
      "DEBUG: Player J lays down [7H[7H[7D]\n",
      "DEBUG: Player J discards 3S leaving [8S[8C[AC[AS[JH[KD[QC[TC[TC]\n",
      "DEBUG: Player J draws [AD[9H]\n",
      "DEBUG: Player J discards 9H leaving [8S[8C[AC[AS[AD[JH[KD[QC[TC[TC]\n",
      "DEBUG: Player J draws [7C[7S]\n",
      "DEBUG: Player J discards AD leaving [7C[7S[8S[8C[AC[AS[JH[KD[QC[TC[TC]\n",
      "DEBUG: Player J draws [2H[*R]\n",
      "DEBUG: Player J discards *R leaving [2H[7C[7S[8S[8C[AC[AS[JH[KD[QC[TC[TC]\n",
      "DEBUG: Player J draws [7S[2H]\n",
      "DEBUG: Player J lays down [7C[7S[7S]\n",
      "DEBUG: Player J discards JH leaving [2H[2H[8S[8C[AC[AS[KD[QC[TC[TC]\n",
      "DEBUG: Player J draws [5H[KD]\n",
      "DEBUG: Player J lays down [5H]\n",
      "DEBUG: Player J discards QC leaving [2H[2H[8S[8C[AC[AS[KD[KD[TC[TC]\n",
      "DEBUG: Player J draws [2D[JD]\n",
      "DEBUG: Player J lays down [2H[2H[2D]\n",
      "DEBUG: Player J discards JD leaving [8S[8C[AC[AS[KD[KD[TC[TC]\n",
      "DEBUG: Player J draws [3C[AH]\n",
      "DEBUG: Player J discards 3C leaving [8S[8C[AC[AS[AH[KD[KD[TC[TC]\n",
      "DEBUG: Player J draws [KS[JH]\n",
      "DEBUG: Player J discards AH leaving [8S[8C[AC[AS[JH[KS[KD[KD[TC[TC]\n"
     ]
    },
    {
     "name": "stdout",
     "output_type": "stream",
     "text": [
      "J:\n",
      "complete: \n",
      "down: \n",
      "hand: [2C[2D[3S[4H[5H[8S[8D[AC[JC[JS[QC]\n",
      "foot: [B3] (11)\n",
      "J:\n",
      "complete: \n",
      "down: [5H[5H[5D[5H[5H]  [6S[6C[6S]  [JC[JS[JS[JS]  [7H[7H[7D]  [7C[7S[7S]  [2H[2H[2D]\n",
      "hand: [8S[8C[AC[AS[JH[KS[KD[KD[TC[TC]\n",
      "foot: [B3] (11)\n"
     ]
    }
   ],
   "source": [
    "g.players[0].display()\n",
    "for i in range(20):\n",
    "    g.play_turn(player = g.players[0])\n",
    "g.players[0].display()\n"
   ]
  },
  {
   "cell_type": "code",
   "execution_count": 4,
   "metadata": {},
   "outputs": [
    {
     "data": {
      "text/html": [
       "<span style=\"font-size:90px;\">🂨🃘🃑🂡🂻🂮🃎🃎🃚🃚</span>"
      ],
      "text/plain": [
       "<IPython.core.display.HTML object>"
      ]
     },
     "metadata": {},
     "output_type": "display_data"
    }
   ],
   "source": [
    "from IPython.core.display import display, HTML\n",
    "s = \"\"\n",
    "for card in g.players[0].get_hand().cards:\n",
    "    s += (card.get_HTML())\n",
    "display(HTML('<span style=\"font-size:90px;\">'+s+'</span>'))"
   ]
  },
  {
   "cell_type": "code",
   "execution_count": null,
   "metadata": {},
   "outputs": [],
   "source": []
  }
 ],
 "metadata": {
  "interpreter": {
   "hash": "19a9f3a328b7b902e0eae633e158192ee891b3df3ec227fc90fdd38d2cdb5a0b"
  },
  "kernelspec": {
   "display_name": "Python 3.10.0 64-bit",
   "language": "python",
   "name": "python3"
  },
  "language_info": {
   "codemirror_mode": {
    "name": "ipython",
    "version": 3
   },
   "file_extension": ".py",
   "mimetype": "text/x-python",
   "name": "python",
   "nbconvert_exporter": "python",
   "pygments_lexer": "ipython3",
   "version": "3.10.0"
  },
  "orig_nbformat": 4
 },
 "nbformat": 4,
 "nbformat_minor": 2
}
