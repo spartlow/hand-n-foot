{
 "cells": [
  {
   "cell_type": "code",
   "execution_count": 1,
   "metadata": {},
   "outputs": [
    {
     "name": "stdout",
     "output_type": "stream",
     "text": [
      "[B1] (32)\n"
     ]
    }
   ],
   "source": [
    "import logging\n",
    "from handnfoot import cardtable\n",
    "from handnfoot import handnfoot\n"
   ]
  },
  {
   "cell_type": "code",
   "execution_count": 2,
   "metadata": {},
   "outputs": [
    {
     "name": "stderr",
     "output_type": "stream",
     "text": [
      "INFO: Setting up game\n",
      "INFO: Setting up round 1\n"
     ]
    }
   ],
   "source": [
    "    logging.basicConfig(format='%(levelname)s: %(message)s', level=logging.DEBUG)\n",
    "    g = handnfoot.HNFGame()\n",
    "    g.add_player(cardtable.Player(\"J\", precision=5, speed=1.2), handnfoot.Strategy())\n",
    "    g.add_player(cardtable.Player(\"S\", precision=10, speed=1), handnfoot.Strategy())\n",
    "    g.add_player(cardtable.Player(\"L\", precision=7, speed=1), handnfoot.Strategy())\n",
    "    g.add_player(cardtable.Player(\"A\", precision=15, speed=.9), handnfoot.Strategy())\n",
    "    #g.game_setup()\n",
    "    #g.round_setup()\n",
    "    g.start()\n",
    "    #g.display()"
   ]
  },
  {
   "cell_type": "code",
   "execution_count": 3,
   "metadata": {},
   "outputs": [
    {
     "name": "stderr",
     "output_type": "stream",
     "text": [
      "DEBUG: Player J draws [5H[4S]\n",
      "DEBUG: Player J discards *B leaving [2C[2S[2D[4S[5C[5D[5H[6S[KS[KH[KD[QC]\n",
      "DEBUG: Player J draws [7S[6D]\n",
      "DEBUG: Player J discards 2D leaving [2C[2S[4S[5C[5D[5H[6S[6D[7S[KS[KH[KD[QC]\n",
      "DEBUG: Player J draws [JS[3C]\n",
      "DEBUG: Player J discards 3C leaving [2C[2S[4S[5C[5D[5H[6S[6D[7S[JS[KS[KH[KD[QC]\n",
      "DEBUG: Player J draws [4C[4S]\n",
      "DEBUG: Player J discards 5C leaving [2C[2S[4S[4C[4S[5D[5H[6S[6D[7S[JS[KS[KH[KD[QC]\n",
      "DEBUG: Player J draws [5H[4D]\n",
      "DEBUG: Player J discards 4D leaving [2C[2S[4S[4C[4S[5D[5H[5H[6S[6D[7S[JS[KS[KH[KD[QC]\n",
      "DEBUG: Player J draws [JH[4D]\n",
      "DEBUG: Player J discards 4D leaving [2C[2S[4S[4C[4S[5D[5H[5H[6S[6D[7S[JS[JH[KS[KH[KD[QC]\n",
      "DEBUG: Player J draws [2D[6C]\n",
      "DEBUG: Player J discards 2D leaving [2C[2S[4S[4C[4S[5D[5H[5H[6S[6C[6D[7S[JS[JH[KS[KH[KD[QC]\n",
      "DEBUG: Player J draws [TC[3S]\n",
      "DEBUG: Player J discards 3S leaving [2C[2S[4S[4C[4S[5D[5H[5H[6S[6C[6D[7S[JS[JH[KS[KH[KD[QC[TC]\n",
      "DEBUG: Player J draws [8D[4H]\n",
      "DEBUG: Player J discards 4H leaving [2C[2S[4S[4C[4S[5D[5H[5H[6S[6C[6D[7S[8D[JS[JH[KS[KH[KD[QC[TC]\n",
      "DEBUG: Player J draws [KD[8S]\n",
      "DEBUG: Player J lays down [4S[4C[4S]\n",
      "DEBUG: Player J lays down [5D[5H[5H]\n",
      "DEBUG: Player J lays down [KH[KD[KD]\n",
      "DEBUG: Player J discards 6D leaving [2C[2S[6S[6C[7S[8S[8D[JS[JH[KS[QC[TC]\n",
      "DEBUG: Player J draws [QD[QD]\n",
      "DEBUG: Player J discards 7S leaving [2C[2S[6S[6C[8S[8D[JS[JH[KS[QC[QD[QD[TC]\n",
      "DEBUG: Player J draws [7S[3H]\n",
      "DEBUG: Player J discards 3H leaving [2C[2S[6S[6C[7S[8S[8D[JS[JH[KS[QC[QD[QD[TC]\n",
      "DEBUG: Player J draws [2C[3C]\n",
      "DEBUG: Player J lays down [2C[2S[2C]\n",
      "DEBUG: Player J discards 3C leaving [6S[6C[7S[8S[8D[JS[JH[KS[QC[QD[QD[TC]\n",
      "DEBUG: Player J draws [3D[3H]\n",
      "DEBUG: Player J discards 7S leaving [3D[3H[6S[6C[8S[8D[JS[JH[KS[QC[QD[QD[TC]\n",
      "DEBUG: Player J draws [6C[KH]\n",
      "DEBUG: Player J lays down [6S[6C[6C]\n",
      "DEBUG: Player J lays down [KH]\n",
      "DEBUG: Player J discards 8S leaving [3D[3H[8D[JS[JH[KS[QC[QD[QD[TC]\n",
      "DEBUG: Player J draws [7H[*B]\n",
      "DEBUG: Player J discards *B leaving [3D[3H[7H[8D[JS[JH[KS[QC[QD[QD[TC]\n",
      "DEBUG: Player J draws [KC[2S]\n",
      "DEBUG: Player J lays down [2S]\n",
      "DEBUG: Player J discards 7H leaving [3D[3H[8D[JS[JH[KS[KC[QC[QD[QD[TC]\n",
      "DEBUG: Player J draws [5D[9C]\n",
      "DEBUG: Player J lays down [5D]\n",
      "DEBUG: Player J discards 8D leaving [3D[3H[9C[JS[JH[KS[KC[QC[QD[QD[TC]\n"
     ]
    },
    {
     "name": "stdout",
     "output_type": "stream",
     "text": [
      "J:\n",
      "complete: \n",
      "down: \n",
      "hand: [*B[2C[2S[2D[5C[5D[6S[KS[KH[KD[QC]\n",
      "foot: [R3] (11)\n"
     ]
    },
    {
     "name": "stderr",
     "output_type": "stream",
     "text": [
      "DEBUG: Player J draws [4C[2D]\n",
      "DEBUG: Player J lays down [4C]\n",
      "DEBUG: Player J discards 2D leaving [3D[3H[9C[JS[JH[KS[KC[QC[QD[QD[TC]\n",
      "DEBUG: Player J draws [3S[3D]\n",
      "DEBUG: Player J lays down [3D[3H[3D]\n",
      "DEBUG: Player J discards 3S leaving [9C[JS[JH[KS[KC[QC[QD[QD[TC]\n"
     ]
    },
    {
     "name": "stdout",
     "output_type": "stream",
     "text": [
      "J:\n",
      "complete: \n",
      "down: [4S[4C[4S[4C]  [5D[5H[5H[5D]  [KH[KD[KD[KH]  [2C[2S[2C[2S]  [6S[6C[6C]  [3D[3H[3D]\n",
      "hand: [9C[JS[JH[KS[KC[QC[QD[QD[TC]\n",
      "foot: [R3] (11)\n"
     ]
    }
   ],
   "source": [
    "g.players[0].display()\n",
    "for i in range(20):\n",
    "    g.play_turn(player = g.players[0])\n",
    "g.players[0].display()\n"
   ]
  },
  {
   "cell_type": "code",
   "execution_count": 4,
   "metadata": {},
   "outputs": [
    {
     "data": {
      "text/html": [
       "<span style=\"font-size:90px;\"><span style=\"color:BLACK\">🃙</span><span style=\"color:BLACK\">🂫</span><span style=\"color:RED\">🂻</span><span style=\"color:BLACK\">🂮</span><span style=\"color:BLACK\">🃞</span><span style=\"color:BLACK\">🃝</span><span style=\"color:RED\">🃍</span><span style=\"color:RED\">🃍</span><span style=\"color:BLACK\">🃚</span></span>"
      ],
      "text/plain": [
       "<IPython.core.display.HTML object>"
      ]
     },
     "metadata": {},
     "output_type": "display_data"
    }
   ],
   "source": [
    "from IPython.core.display import display, HTML\n",
    "s = \"\"\n",
    "for card in g.players[0].get_hand().cards:\n",
    "    s += (card.get_HTML())\n",
    "display(HTML('<span style=\"font-size:90px;\">'+s+'</span>'))"
   ]
  },
  {
   "cell_type": "code",
   "execution_count": 34,
   "metadata": {},
   "outputs": [
    {
     "data": {
      "text/html": [
       "<span style=\"display:inline-block; background-color:white; border-radius: 5px; border: solid 1px black\"><img src=\"handnfoot/pcassets/png/ace_of_spades.png\" width=70></span><span style=\"position: relative; left: -50px; display:inline-block; background-color:white; border-radius: 5px; border: solid 1px black\"><img src=\"handnfoot/pcassets/png/queen_of_hearts.png\" width=70></span>"
      ],
      "text/plain": [
       "<IPython.core.display.HTML object>"
      ]
     },
     "metadata": {},
     "output_type": "display_data"
    }
   ],
   "source": [
    "s = '<span style=\"display:inline-block; background-color:white; border-radius: 5px; border: solid 1px black\"><img src=\"handnfoot/pcassets/png/ace_of_spades.png\" width=70></span>'\n",
    "s += '<span style=\"position: relative; left: -50px; display:inline-block; background-color:white; border-radius: 5px; border: solid 1px black\"><img src=\"handnfoot/pcassets/png/queen_of_hearts.png\" width=70></span>'\n",
    "display(HTML(s))\n",
    "#from IPython.display import Image\n",
    "#Image(filename='handnfoot/pcassets/png/ace_of_spades.png') "
   ]
  },
  {
   "cell_type": "code",
   "execution_count": null,
   "metadata": {},
   "outputs": [],
   "source": []
  }
 ],
 "metadata": {
  "interpreter": {
   "hash": "19a9f3a328b7b902e0eae633e158192ee891b3df3ec227fc90fdd38d2cdb5a0b"
  },
  "kernelspec": {
   "display_name": "Python 3.10.0 64-bit",
   "language": "python",
   "name": "python3"
  },
  "language_info": {
   "codemirror_mode": {
    "name": "ipython",
    "version": 3
   },
   "file_extension": ".py",
   "mimetype": "text/x-python",
   "name": "python",
   "nbconvert_exporter": "python",
   "pygments_lexer": "ipython3",
   "version": "3.10.0"
  },
  "orig_nbformat": 4
 },
 "nbformat": 4,
 "nbformat_minor": 2
}
